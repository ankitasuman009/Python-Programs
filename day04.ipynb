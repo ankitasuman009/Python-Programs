{
 "cells": [
  {
   "cell_type": "code",
   "execution_count": 1,
   "metadata": {},
   "outputs": [],
   "source": [
    "def fun(f):\n",
    "    r=1\n",
    "    for i in range(1,f+1):\n",
    "        r=r*i\n",
    "    return r"
   ]
  },
  {
   "cell_type": "code",
   "execution_count": 2,
   "metadata": {},
   "outputs": [
    {
     "name": "stdout",
     "output_type": "stream",
     "text": [
      "120\n"
     ]
    }
   ],
   "source": [
    "print(fun(5))"
   ]
  },
  {
   "cell_type": "code",
   "execution_count": 3,
   "metadata": {},
   "outputs": [],
   "source": [
    "def rfun(f):\n",
    "    if f==0:\n",
    "        return 1\n",
    "    else:\n",
    "        return(f*rfun(f-1))"
   ]
  },
  {
   "cell_type": "code",
   "execution_count": 4,
   "metadata": {},
   "outputs": [
    {
     "name": "stdout",
     "output_type": "stream",
     "text": [
      "120\n"
     ]
    }
   ],
   "source": [
    "print(rfun(5))"
   ]
  },
  {
   "cell_type": "code",
   "execution_count": 9,
   "metadata": {},
   "outputs": [],
   "source": [
    "def fab(a,b,n):\n",
    "    for i in range(n):\n",
    "        c=a+b\n",
    "        print(a,end=\" \")\n",
    "        a=b\n",
    "        b=c"
   ]
  },
  {
   "cell_type": "code",
   "execution_count": 10,
   "metadata": {},
   "outputs": [
    {
     "name": "stdout",
     "output_type": "stream",
     "text": [
      "0 1 1 2 3 5 8 13 21 34 "
     ]
    }
   ],
   "source": [
    "fab(0,1,10)"
   ]
  },
  {
   "cell_type": "code",
   "execution_count": 11,
   "metadata": {},
   "outputs": [],
   "source": [
    "def rfab(a,b,n):\n",
    "    if n>0:\n",
    "        print(a, end=\" \")\n",
    "        rfab(b,a+b,n-1)"
   ]
  },
  {
   "cell_type": "code",
   "execution_count": 12,
   "metadata": {},
   "outputs": [
    {
     "name": "stdout",
     "output_type": "stream",
     "text": [
      "0 1 1 2 3 5 8 13 21 34 "
     ]
    }
   ],
   "source": [
    "rfab(0,1,10)"
   ]
  },
  {
   "cell_type": "markdown",
   "metadata": {},
   "source": [
    "#Lab 5\n",
    "1. Write a function in python to find max of three numbers\n",
    "2. Write a function in python to sum all the numbers in a list\n",
    "3. Write a function in python to multiply all the numbrers in a list\n",
    "4. Write a function in python to reverse a string\n",
    "5. Write a function in python that takes a list and returns a new list with unique elements of the first list\n",
    "6. Write a function in python that checks whether a passed string is palindrome or not\n",
    "7. Write a function in python to access a function inside a function\n",
    "8. Write a function in python to generate even series upto the nth term\n",
    "9. Write a function in python to check if a number is prime or not\n",
    "10. Write a function in python to generate prime series between range inputted by a user.\n",
    "11. Write a recursive function in python to sum all the numbers in a list\n",
    "12. Write a recursive function in python to multiply all the numbrers in a list\n",
    "13. Write a recursive function in python to reverse a string\n",
    "14. Write a recursive function in python that takes a list and returns a new list with unique elements of the first list\n",
    "15. Write a recursive function in python that checks whether a passed string is palindrome or not\n",
    "16. Write a recursive function in python to generate even series upto the nth term\n",
    "17. Write a recursive function in python to check if a number is prime or not\n",
    "18. Write a recursive function in python to generate prime series between range inputted by a user."
   ]
  },
  {
   "cell_type": "code",
   "execution_count": 5,
   "metadata": {},
   "outputs": [],
   "source": [
    "#Write a function in python to find max of three numbers\n",
    "def threeMax(a, b, c):\n",
    "    if a>b:\n",
    "        if a>c:\n",
    "            return a\n",
    "        else:\n",
    "            return c\n",
    "    else:\n",
    "        if b>c:\n",
    "            return b\n",
    "        else:\n",
    "            return c"
   ]
  },
  {
   "cell_type": "code",
   "execution_count": 6,
   "metadata": {},
   "outputs": [
    {
     "name": "stdout",
     "output_type": "stream",
     "text": [
      "enter three nos\n",
      "first num: 46\n",
      "second num: 23\n",
      "third num: 56\n",
      "56 is greater\n"
     ]
    }
   ],
   "source": [
    "print(\"enter three nos\")\n",
    "num1 = int(input(\"first num: \"))\n",
    "num2 = int(input(\"second num: \"))\n",
    "num3 = int(input(\"third num: \"))\n",
    "print(threeMax(num1, num2, num3), \"is greater\")"
   ]
  },
  {
   "cell_type": "code",
   "execution_count": 7,
   "metadata": {},
   "outputs": [],
   "source": [
    "def listSum(list1):\n",
    "    sum = 0\n",
    "    for i in list1:\n",
    "        sum += i\n",
    "    return sum\n"
   ]
  },
  {
   "cell_type": "code",
   "execution_count": 8,
   "metadata": {},
   "outputs": [
    {
     "name": "stdout",
     "output_type": "stream",
     "text": [
      "enter n: 5\n",
      "enter list ele: 1\n",
      "enter list ele: 2\n",
      "enter list ele: 3\n",
      "enter list ele: 4\n",
      "enter list ele: 5\n",
      "sum of list1 ele is  15\n"
     ]
    }
   ],
   "source": [
    "list1 = []\n",
    "n = int(input(\"enter n: \"))\n",
    "for i in range(n):\n",
    "    list1.append(int(input(\"enter list ele: \")))\n",
    "print(\"sum of list1 ele is \", listSum(list1))"
   ]
  },
  {
   "cell_type": "code",
   "execution_count": 12,
   "metadata": {},
   "outputs": [],
   "source": [
    "#Write a function in python to multiply all the numbrers in a list\n",
    "def listMulti(list1):\n",
    "    multi = 1\n",
    "    for i in list1:\n",
    "        multi *= i\n",
    "    return multi"
   ]
  },
  {
   "cell_type": "code",
   "execution_count": 13,
   "metadata": {},
   "outputs": [
    {
     "name": "stdout",
     "output_type": "stream",
     "text": [
      "product of all the list elements is  120\n"
     ]
    }
   ],
   "source": [
    "print(\"product of all the list elements is \", listMulti(list1))"
   ]
  },
  {
   "cell_type": "code",
   "execution_count": 18,
   "metadata": {},
   "outputs": [
    {
     "name": "stdout",
     "output_type": "stream",
     "text": [
      "atikna\n"
     ]
    }
   ],
   "source": [
    "#Write a function in python to reverse a string\n",
    "def revString(str):\n",
    "    str2 = \"\"\n",
    "    n = len(str) - 1\n",
    "    for i in range(n, -1, -1):\n",
    "        str2 += str[i]\n",
    "    return str2\n",
    "print(revString(\"ankita\"))"
   ]
  },
  {
   "cell_type": "code",
   "execution_count": 21,
   "metadata": {},
   "outputs": [
    {
     "name": "stdout",
     "output_type": "stream",
     "text": [
      "[1, 2, 3, 4]\n"
     ]
    }
   ],
   "source": [
    "#Write a function in python that takes a list and returns a new list with unique elements of the first list\n",
    "def uniqList(list):\n",
    "    list2 = []\n",
    "    list2.append(list[0])\n",
    "    for i in list:\n",
    "        f = 0\n",
    "        for j in list2:\n",
    "            if i==j:\n",
    "                f = 1\n",
    "                exit\n",
    "        if f==0:\n",
    "                list2.append(i)\n",
    "    return list2\n",
    "print(uniqList([1, 1, 2, 2, 3, 4]))"
   ]
  },
  {
   "cell_type": "code",
   "execution_count": 24,
   "metadata": {},
   "outputs": [
    {
     "name": "stdout",
     "output_type": "stream",
     "text": [
      "enter string: aanaa\n",
      "entered string is palindrome\n"
     ]
    }
   ],
   "source": [
    "#Write a function in python that checks whether a passed string is palindrome or not\n",
    "def palindrome(str):\n",
    "    str2 = \"\"\n",
    "    n = len(str) - 1\n",
    "    for i in range(n, -1, -1):\n",
    "        str2 += str[i]\n",
    "    if str==str2:\n",
    "        return True\n",
    "    return False\n",
    "str = input(\"enter string: \")\n",
    "if palindrome(str):\n",
    "    print(\"entered string is palindrome\")\n",
    "else:\n",
    "    print(\"its not\")"
   ]
  },
  {
   "cell_type": "code",
   "execution_count": 31,
   "metadata": {},
   "outputs": [
    {
     "name": "stdout",
     "output_type": "stream",
     "text": [
      "checking for duplicacy\n",
      "[3, 2, 1]\n"
     ]
    }
   ],
   "source": [
    "#Write a function in python to access a function inside a function\n",
    "def outerFunc(list1):\n",
    "    def innerFunc(list):\n",
    "        print(\"checking for duplicacy\")\n",
    "        list2 = []\n",
    "        list2.append(list[0])\n",
    "        for i in list:\n",
    "            f = 0\n",
    "            for j in list2:\n",
    "                if i==j:\n",
    "                    f = 1\n",
    "                    exit\n",
    "            if f==0:\n",
    "                list2.append(i)\n",
    "        list = list2\n",
    "        return list\n",
    "    #reverse of a list\n",
    "    list1.reverse()\n",
    "    list1 = innerFunc(list1)\n",
    "    return list1\n",
    "print(outerFunc([1, 2, 2, 3]))"
   ]
  },
  {
   "cell_type": "code",
   "execution_count": 1,
   "metadata": {},
   "outputs": [
    {
     "name": "stdout",
     "output_type": "stream",
     "text": [
      "enter n: 20\n",
      "0 2 4 6 8 10 12 14 16 18 "
     ]
    }
   ],
   "source": [
    "#Write a function in python to generate even series upto the nth term\n",
    "def evenNoGen(n):\n",
    "    for i in range(n):\n",
    "        if i%2==0:\n",
    "            print(i, end=\" \")\n",
    "evenNoGen(int(input(\"enter n: \")))"
   ]
  },
  {
   "cell_type": "code",
   "execution_count": 14,
   "metadata": {},
   "outputs": [
    {
     "name": "stdout",
     "output_type": "stream",
     "text": [
      "enter any random no. 13\n",
      "prime\n"
     ]
    }
   ],
   "source": [
    "#Write a function in python to check if a number is prime or not\n",
    "import math\n",
    "def primeNo(num):\n",
    "    for i in range(3, int(math.sqrt(25))):\n",
    "        if num%i==0:\n",
    "            return(\"not prime\")\n",
    "    return \"prime\"\n",
    "num = int(input(\"enter any random no. \"))\n",
    "print(primeNo(num))"
   ]
  },
  {
   "cell_type": "code",
   "execution_count": 23,
   "metadata": {},
   "outputs": [
    {
     "name": "stdout",
     "output_type": "stream",
     "text": [
      "enter starting no. 2\n",
      "enter ending no. 20\n",
      "2 3 5 7 11 13 17 19 "
     ]
    }
   ],
   "source": [
    "#Write a function in python to generate prime series between range inputted by a user.\n",
    "import math\n",
    "def primeNo(num):\n",
    "    for i in range(2, int(math.sqrt(num)) + 1):\n",
    "        if num%i==0:\n",
    "            return\n",
    "    return num\n",
    "num1 = int(input(\"enter starting no. \"))\n",
    "num2 = int(input(\"enter ending no. \"))\n",
    "for x in range(num1, num2):\n",
    "    if primeNo(x):\n",
    "        print(primeNo(x), end=\" \")"
   ]
  },
  {
   "cell_type": "code",
   "execution_count": 14,
   "metadata": {},
   "outputs": [
    {
     "name": "stdout",
     "output_type": "stream",
     "text": [
      "enter n: 5\n",
      "enter list element: 1\n",
      "enter list element: 2\n",
      "enter list element: 3\n",
      "enter list element: 4\n",
      "enter list element: 5\n",
      "sum of list elements is  15\n"
     ]
    }
   ],
   "source": [
    "#Write a recursive function in python to sum all the numbers in a list\n",
    "def sumList(list1, sum):\n",
    "    if len(list1)==0:\n",
    "        print(\"sum of list elements is \", sum)\n",
    "        return\n",
    "    ele = list1.pop()\n",
    "    sumList(list1, sum + ele)\n",
    "list1 = []\n",
    "n = int(input(\"enter n: \"))\n",
    "for i in range(n):\n",
    "    list1.append(int(input(\"enter list element: \")))\n",
    "sumList(list1, 0)"
   ]
  },
  {
   "cell_type": "code",
   "execution_count": 13,
   "metadata": {},
   "outputs": [
    {
     "name": "stdout",
     "output_type": "stream",
     "text": [
      "enter n: 5\n",
      "enter list element: 1\n",
      "enter list element: 2\n",
      "enter list element: 3\n",
      "enter list element: 4\n",
      "enter list element: 5\n",
      "product of list elements is  120\n"
     ]
    }
   ],
   "source": [
    "#Write a recursive function in python to multiply all the numbers in a list\n",
    "def productList(list1, sum):\n",
    "    if len(list1)==0:\n",
    "        print(\"product of list elements is \", sum)\n",
    "        return\n",
    "    ele = list1.pop()\n",
    "    productList(list1, sum * ele)\n",
    "list1 = []\n",
    "n = int(input(\"enter n: \"))\n",
    "for i in range(n):\n",
    "    list1.append(int(input(\"enter list element: \")))\n",
    "productList(list1, 1)"
   ]
  },
  {
   "cell_type": "code",
   "execution_count": 20,
   "metadata": {},
   "outputs": [
    {
     "name": "stdout",
     "output_type": "stream",
     "text": [
      "enter string: ankita suman\n",
      "namus atikna\n"
     ]
    }
   ],
   "source": [
    "#Write a recursive function in python to reverse a string\n",
    "def stringRev(str1):\n",
    "    if len(str1)==0:\n",
    "        return str1\n",
    "    else:\n",
    "        return stringRev(str1[1:]) + str1[0]\n",
    "print(stringRev(input(\"enter string: \")))"
   ]
  },
  {
   "cell_type": "code",
   "execution_count": 19,
   "metadata": {},
   "outputs": [
    {
     "name": "stdout",
     "output_type": "stream",
     "text": [
      "enter n: 7\n",
      "enter list element: 1\n",
      "enter list element: 2\n",
      "enter list element: 3\n",
      "enter list element: 4\n",
      "enter list element: 5\n",
      "enter list element: 1\n",
      "enter list element: 2\n",
      "[1, 2, 3, 4, 5]\n"
     ]
    }
   ],
   "source": [
    "#Write a recursive function in python that takes a list and returns a new list with unique elements of the first list\n",
    "def duplicacyCheck(list1, list2):\n",
    "    if len(list1)==0:\n",
    "        return list2\n",
    "    else:\n",
    "        ele = list1.pop(0)\n",
    "        if ele not in list2:\n",
    "            list2.append(ele)\n",
    "        return duplicacyCheck(list1, list2)\n",
    "list1 = []\n",
    "n = int(input(\"enter n: \"))\n",
    "for i in range(n):\n",
    "    list1.append(int(input(\"enter list element: \")))\n",
    "print(duplicacyCheck(list1, []))"
   ]
  },
  {
   "cell_type": "code",
   "execution_count": 33,
   "metadata": {},
   "outputs": [
    {
     "name": "stdout",
     "output_type": "stream",
     "text": [
      "enter your string: ankita\n",
      "\n",
      "atikna\n",
      "not a palindrome\n"
     ]
    }
   ],
   "source": [
    "#Write a recursive function in python that checks whether a passed string is palindrome or not\n",
    "def palindromeCheck(str1, str2):\n",
    "    if len(str1)==0:\n",
    "        return str2\n",
    "    str2 += str1.pop()\n",
    "    return palindromeCheck(str1, str2)\n",
    "str = input(\"enter your string: \")\n",
    "for i in str:\n",
    "    strList.append(i)\n",
    "print()\n",
    "tempStr = palindromeCheck(strList, \"\")\n",
    "print(tempStr)\n",
    "if str==tempStr:\n",
    "    print(\"entered string is a palindrome string\")\n",
    "else:\n",
    "    print(\"not a palindrome\")"
   ]
  },
  {
   "cell_type": "code",
   "execution_count": 35,
   "metadata": {},
   "outputs": [
    {
     "name": "stdout",
     "output_type": "stream",
     "text": [
      "enter n 10\n",
      "0 2 4 6 8 "
     ]
    }
   ],
   "source": [
    "#Write a recursive function in python to generate even series upto the nth term\n",
    "def evenSeries(x, n):\n",
    "    if n==0:\n",
    "        return\n",
    "    if x%2==0:\n",
    "        print(x, end=\" \")\n",
    "    evenSeries(x+1, n-1)\n",
    "no = int(input(\"enter n \"))\n",
    "evenSeries(0, no)"
   ]
  },
  {
   "cell_type": "code",
   "execution_count": 71,
   "metadata": {},
   "outputs": [
    {
     "name": "stdout",
     "output_type": "stream",
     "text": [
      "enter num 10\n",
      "not prime\n"
     ]
    }
   ],
   "source": [
    "#Write a recursive function in python to check if a number is prime or not\n",
    "def primeCheck(itr, num):\n",
    "    if num==2 or itr==num:\n",
    "        return \"prime\"\n",
    "    if num%itr==0:\n",
    "        return \"not prime\"\n",
    "    else:\n",
    "        return primeCheck(itr+1, num)\n",
    "print(primeCheck(2, int(input(\"enter num \"))))        "
   ]
  },
  {
   "cell_type": "code",
   "execution_count": 81,
   "metadata": {},
   "outputs": [
    {
     "name": "stdout",
     "output_type": "stream",
     "text": [
      "enter range 20\n",
      "prime nos in this range are \n",
      "2 3 5 7 11 13 17 19 "
     ]
    }
   ],
   "source": [
    "#Write a recursive function in python to generate prime series between range inputted by a user.\n",
    "def primeSeries(itr, num):\n",
    "    if num==2 or itr==num:\n",
    "        return num\n",
    "    if num%itr==0:\n",
    "        return\n",
    "    else:\n",
    "        return primeSeries(itr+1, num)\n",
    "rang = int(input(\"enter range \"))\n",
    "print(\"prime nos in this range are \")\n",
    "for i in range(2, rang):\n",
    "    ret = primeSeries(2, i)\n",
    "    if ret:\n",
    "        print(ret, end=\" \")"
   ]
  }
 ],
 "metadata": {
  "kernelspec": {
   "display_name": "Python 3",
   "language": "python",
   "name": "python3"
  },
  "language_info": {
   "codemirror_mode": {
    "name": "ipython",
    "version": 3
   },
   "file_extension": ".py",
   "mimetype": "text/x-python",
   "name": "python",
   "nbconvert_exporter": "python",
   "pygments_lexer": "ipython3",
   "version": "3.7.6"
  }
 },
 "nbformat": 4,
 "nbformat_minor": 2
}
