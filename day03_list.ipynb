{
 "cells": [
  {
   "cell_type": "code",
   "execution_count": 1,
   "metadata": {},
   "outputs": [
    {
     "name": "stdout",
     "output_type": "stream",
     "text": [
      "[]\n"
     ]
    }
   ],
   "source": [
    "l = [] #empty list\n",
    "print (l)"
   ]
  },
  {
   "cell_type": "code",
   "execution_count": 2,
   "metadata": {},
   "outputs": [
    {
     "name": "stdout",
     "output_type": "stream",
     "text": [
      "[1, 2, 3]\n"
     ]
    }
   ],
   "source": [
    "l = [1,2,3] #list of integers\n",
    "print (l)"
   ]
  },
  {
   "cell_type": "code",
   "execution_count": 3,
   "metadata": {},
   "outputs": [
    {
     "name": "stdout",
     "output_type": "stream",
     "text": [
      "[1, 2, 3, 4.5, 5.1]\n"
     ]
    }
   ],
   "source": [
    "l = [1,2,3, 4.5, 5.1] #list of numbers\n",
    "print (l)"
   ]
  },
  {
   "cell_type": "code",
   "execution_count": 4,
   "metadata": {},
   "outputs": [
    {
     "name": "stdout",
     "output_type": "stream",
     "text": [
      "['a', 'b', 'c']\n"
     ]
    }
   ],
   "source": [
    "l = [\"a\",\"b\",'c'] #list of characters\n",
    "print (l)"
   ]
  },
  {
   "cell_type": "code",
   "execution_count": 5,
   "metadata": {},
   "outputs": [
    {
     "name": "stdout",
     "output_type": "stream",
     "text": [
      "[1, 2, 4.5, 'abs']\n"
     ]
    }
   ],
   "source": [
    "l = [1,2,4.5,'abs'] #mixed list\n",
    "print (l)"
   ]
  },
  {
   "cell_type": "code",
   "execution_count": 6,
   "metadata": {},
   "outputs": [
    {
     "name": "stdout",
     "output_type": "stream",
     "text": [
      "['abc', 'pqr', 'xyz']\n"
     ]
    }
   ],
   "source": [
    "l = ['abc','pqr','xyz'] #list of strings\n",
    "print (l)"
   ]
  },
  {
   "cell_type": "code",
   "execution_count": 8,
   "metadata": {},
   "outputs": [
    {
     "name": "stdout",
     "output_type": "stream",
     "text": [
      "['h', 'e', 'l', 'l', 'o']\n"
     ]
    }
   ],
   "source": [
    "l=list('hello')\n",
    "print(l)"
   ]
  },
  {
   "cell_type": "code",
   "execution_count": 9,
   "metadata": {},
   "outputs": [
    {
     "name": "stdout",
     "output_type": "stream",
     "text": [
      "['a', 'b', 'c', 'd', 'e']\n"
     ]
    }
   ],
   "source": [
    "s=('a','b','c','d','e')\n",
    "l=list(s)\n",
    "print(l)"
   ]
  },
  {
   "cell_type": "code",
   "execution_count": 11,
   "metadata": {},
   "outputs": [
    {
     "name": "stdout",
     "output_type": "stream",
     "text": [
      "Enter a list123345\n",
      "['1', '2', '3', '3', '4', '5']\n"
     ]
    }
   ],
   "source": [
    "l=list(input(\"Enter a list\"))\n",
    "print(l)"
   ]
  },
  {
   "cell_type": "code",
   "execution_count": 12,
   "metadata": {},
   "outputs": [
    {
     "name": "stdout",
     "output_type": "stream",
     "text": [
      "[1, [2, 3], [4, 5], [6, 7, 8]]\n"
     ]
    }
   ],
   "source": [
    "l=[1,[2,3],[4,5],[6,7,8]] #Nested List\n",
    "print(l)"
   ]
  },
  {
   "cell_type": "code",
   "execution_count": 13,
   "metadata": {},
   "outputs": [
    {
     "data": {
      "text/plain": [
       "4"
      ]
     },
     "execution_count": 13,
     "metadata": {},
     "output_type": "execute_result"
    }
   ],
   "source": [
    "len(l) #length of a list"
   ]
  },
  {
   "cell_type": "code",
   "execution_count": 14,
   "metadata": {},
   "outputs": [
    {
     "data": {
      "text/plain": [
       "[6, 7, 8]"
      ]
     },
     "execution_count": 14,
     "metadata": {},
     "output_type": "execute_result"
    }
   ],
   "source": [
    "l[3]  #indexing"
   ]
  },
  {
   "cell_type": "code",
   "execution_count": 15,
   "metadata": {},
   "outputs": [
    {
     "data": {
      "text/plain": [
       "[[4, 5], [6, 7, 8]]"
      ]
     },
     "execution_count": 15,
     "metadata": {},
     "output_type": "execute_result"
    }
   ],
   "source": [
    "l[2:4] #slicing"
   ]
  },
  {
   "cell_type": "code",
   "execution_count": 16,
   "metadata": {},
   "outputs": [
    {
     "data": {
      "text/plain": [
       "False"
      ]
     },
     "execution_count": 16,
     "metadata": {},
     "output_type": "execute_result"
    }
   ],
   "source": [
    "[1,2,3] > [8,9,1]"
   ]
  },
  {
   "cell_type": "code",
   "execution_count": 17,
   "metadata": {},
   "outputs": [
    {
     "data": {
      "text/plain": [
       "True"
      ]
     },
     "execution_count": 17,
     "metadata": {},
     "output_type": "execute_result"
    }
   ],
   "source": [
    "[1,2,3] < [8,9,1]"
   ]
  },
  {
   "cell_type": "code",
   "execution_count": 18,
   "metadata": {},
   "outputs": [
    {
     "name": "stdout",
     "output_type": "stream",
     "text": [
      "[1, 2, 5, 4, 3]\n"
     ]
    }
   ],
   "source": [
    "l1=[1,2]\n",
    "l2=[5,4,3]\n",
    "l = l1+l2\n",
    "print(l)"
   ]
  },
  {
   "cell_type": "code",
   "execution_count": 19,
   "metadata": {},
   "outputs": [
    {
     "data": {
      "text/plain": [
       "[1, 2, 5, 4, 3, 1, 2, 5, 4, 3, 1, 2, 5, 4, 3]"
      ]
     },
     "execution_count": 19,
     "metadata": {},
     "output_type": "execute_result"
    }
   ],
   "source": [
    "l*3"
   ]
  },
  {
   "cell_type": "code",
   "execution_count": 21,
   "metadata": {},
   "outputs": [
    {
     "name": "stdout",
     "output_type": "stream",
     "text": [
      "[5, 3, 2, 4]\n"
     ]
    }
   ],
   "source": [
    "l=l*3\n",
    "seq = l[2:10:2] #L[start:end:step]\n",
    "print(seq)"
   ]
  },
  {
   "cell_type": "code",
   "execution_count": 22,
   "metadata": {},
   "outputs": [
    {
     "data": {
      "text/plain": [
       "[1, 4, 2, 3, 5, 1, 4, 2, 3, 5, 1, 4, 2, 3, 5]"
      ]
     },
     "execution_count": 22,
     "metadata": {},
     "output_type": "execute_result"
    }
   ],
   "source": [
    "l[::3]"
   ]
  },
  {
   "cell_type": "code",
   "execution_count": 23,
   "metadata": {},
   "outputs": [
    {
     "name": "stdout",
     "output_type": "stream",
     "text": [
      "['one', 'two', 5, 4, 3, 1, 2, 5, 4, 3, 1, 2, 5, 4, 3, 1, 2, 5, 4, 3, 1, 2, 5, 4, 3, 1, 2, 5, 4, 3, 1, 2, 5, 4, 3, 1, 2, 5, 4, 3, 1, 2, 5, 4, 3]\n"
     ]
    }
   ],
   "source": [
    "l[0:2] = ['one','two']\n",
    "print(l)"
   ]
  },
  {
   "cell_type": "code",
   "execution_count": 24,
   "metadata": {},
   "outputs": [
    {
     "name": "stdout",
     "output_type": "stream",
     "text": [
      "['one', 'two', 5, 4, 3, 1, 2, 5, 4, 3, 1, 2, 5, 4, 3, 1, 2, 5, 4, 3, 1, 2, 5, 4, 3, 1, 2, 5, 4, 3, 1, 2, 5, 4, 3, 1, 2, 5, 4, 3, 1, 2, 5, 4, 3, 'new item']\n"
     ]
    }
   ],
   "source": [
    "l.append('new item') #add an element\n",
    "print(l)"
   ]
  },
  {
   "cell_type": "code",
   "execution_count": 25,
   "metadata": {},
   "outputs": [
    {
     "name": "stdout",
     "output_type": "stream",
     "text": [
      "['one', 'two', 5, 'updated item', 3, 1, 2, 5, 4, 3, 1, 2, 5, 4, 3, 1, 2, 5, 4, 3, 1, 2, 5, 4, 3, 1, 2, 5, 4, 3, 1, 2, 5, 4, 3, 1, 2, 5, 4, 3, 1, 2, 5, 4, 3, 'new item']\n"
     ]
    }
   ],
   "source": [
    "l[3] = 'updated item' #replace an element\n",
    "print(l)"
   ]
  },
  {
   "cell_type": "code",
   "execution_count": 26,
   "metadata": {},
   "outputs": [
    {
     "name": "stdout",
     "output_type": "stream",
     "text": [
      "['one', 'two', 5, 'updated item', 3, 1, 2, 5, 4, 3, 2, 5, 4, 3, 1, 2, 5, 4, 3, 1, 2, 5, 4, 3, 1, 2, 5, 4, 3, 1, 2, 5, 4, 3, 1, 2, 5, 4, 3, 1, 2, 5, 4, 3, 'new item']\n"
     ]
    }
   ],
   "source": [
    "del l[10]  #delete an item\n",
    "print(l)"
   ]
  },
  {
   "cell_type": "code",
   "execution_count": 27,
   "metadata": {},
   "outputs": [
    {
     "name": "stdout",
     "output_type": "stream",
     "text": [
      "['one', 5, 'updated item', 3, 1, 2, 5, 4, 3, 2, 5, 4, 3, 1, 2, 5, 4, 3, 1, 2, 5, 4, 3, 1, 2, 5, 4, 3, 1, 2, 5, 4, 3, 1, 2, 5, 4, 3, 1, 2, 5, 4, 3, 'new item']\n"
     ]
    }
   ],
   "source": [
    "del l[1]  #delete an item\n",
    "print(l)"
   ]
  },
  {
   "cell_type": "code",
   "execution_count": 28,
   "metadata": {},
   "outputs": [
    {
     "name": "stdout",
     "output_type": "stream",
     "text": [
      "['one', 5, 'updated item', 3, 1, 'item 1', 'item2', 4, 3, 2, 5, 4, 3, 1, 2, 5, 4, 3, 1, 2, 5, 4, 3, 1, 2, 5, 4, 3, 1, 2, 5, 4, 3, 1, 2, 5, 4, 3, 1, 2, 5, 4, 3, 'new item']\n"
     ]
    }
   ],
   "source": [
    "l[5] = \"item 1\"\n",
    "l[6] = \"item2\"\n",
    "print(l)"
   ]
  },
  {
   "cell_type": "code",
   "execution_count": 29,
   "metadata": {},
   "outputs": [
    {
     "name": "stdout",
     "output_type": "stream",
     "text": [
      "['one', 5, 'updated item', 3, 1, 4, 3, 2, 5, 4, 3, 1, 2, 5, 4, 3, 1, 2, 5, 4, 3, 1, 2, 5, 4, 3, 1, 2, 5, 4, 3, 1, 2, 5, 4, 3, 1, 2, 5, 4, 3, 'new item']\n"
     ]
    }
   ],
   "source": [
    "del l[5:7]  #delete a slice\n",
    "print(l)"
   ]
  },
  {
   "cell_type": "code",
   "execution_count": 30,
   "metadata": {},
   "outputs": [
    {
     "name": "stdout",
     "output_type": "stream",
     "text": [
      "['one', 5, 'updated item', 3, 1, 4, 3, 2, 5, 4, 3, 1, 2, 5, 4, 3, 1, 2, 5, 4, 3, 1, 2, 5, 4, 3, 1, 2, 5, 4, 3, 1, 2, 5, 4, 3, 1, 2, 5, 4, 3]\n"
     ]
    }
   ],
   "source": [
    "l.pop() #remove last element of the list\n",
    "print(l)"
   ]
  },
  {
   "cell_type": "code",
   "execution_count": 31,
   "metadata": {},
   "outputs": [
    {
     "name": "stdout",
     "output_type": "stream",
     "text": [
      "['one', 5, 3, 1, 4, 3, 2, 5, 4, 3, 1, 2, 5, 4, 3, 1, 2, 5, 4, 3, 1, 2, 5, 4, 3, 1, 2, 5, 4, 3, 1, 2, 5, 4, 3, 1, 2, 5, 4, 3]\n"
     ]
    }
   ],
   "source": [
    "l.pop(2) #removes an element at a position\n",
    "print(l)"
   ]
  },
  {
   "cell_type": "code",
   "execution_count": 33,
   "metadata": {},
   "outputs": [
    {
     "data": {
      "text/plain": [
       "1"
      ]
     },
     "execution_count": 33,
     "metadata": {},
     "output_type": "execute_result"
    }
   ],
   "source": [
    "l.index(5) #prints an element at position x"
   ]
  },
  {
   "cell_type": "code",
   "execution_count": 34,
   "metadata": {},
   "outputs": [
    {
     "name": "stdout",
     "output_type": "stream",
     "text": [
      "['one', 5, 3, 1, 4, 3, 2, 5, 4, 3, 1, 2, 5, 4, 3, 1, 2, 5, 4, 3, 1, 2, 5, 4, 3, 1, 2, 5, 4, 3, 1, 2, 5, 4, 3, 1, 2, 5, 4, 3, 'a', 'b', 'Banasthali', 1, 2, 3]\n"
     ]
    }
   ],
   "source": [
    "t=['a','b','Banasthali',1,2,3]\n",
    "l.extend(t)\n",
    "print(l)"
   ]
  },
  {
   "cell_type": "code",
   "execution_count": 35,
   "metadata": {},
   "outputs": [
    {
     "name": "stdout",
     "output_type": "stream",
     "text": [
      "['one', 5, 3, 1, 'Hello', 4, 3, 2, 5, 4, 3, 1, 2, 5, 4, 3, 1, 2, 5, 4, 3, 1, 2, 5, 4, 3, 1, 2, 5, 4, 3, 1, 2, 5, 4, 3, 1, 2, 5, 4, 3, 'a', 'b', 'Banasthali', 1, 2, 3]\n"
     ]
    }
   ],
   "source": [
    "l.insert(4,\"Hello\")\n",
    "print(l)"
   ]
  },
  {
   "cell_type": "code",
   "execution_count": 36,
   "metadata": {},
   "outputs": [
    {
     "name": "stdout",
     "output_type": "stream",
     "text": [
      "['one', 5, 3, 'Hello', 4, 3, 2, 5, 4, 3, 1, 2, 5, 4, 3, 1, 2, 5, 4, 3, 1, 2, 5, 4, 3, 1, 2, 5, 4, 3, 1, 2, 5, 4, 3, 1, 2, 5, 4, 3, 'a', 'b', 'Banasthali', 1, 2, 3]\n"
     ]
    }
   ],
   "source": [
    "l.remove(1)\n",
    "print(l)"
   ]
  },
  {
   "cell_type": "code",
   "execution_count": 37,
   "metadata": {},
   "outputs": [
    {
     "data": {
      "text/plain": [
       "7"
      ]
     },
     "execution_count": 37,
     "metadata": {},
     "output_type": "execute_result"
    }
   ],
   "source": [
    "l.count(1)"
   ]
  },
  {
   "cell_type": "code",
   "execution_count": 41,
   "metadata": {},
   "outputs": [
    {
     "name": "stdout",
     "output_type": "stream",
     "text": [
      "[3, 2, 1, 'Banasthali', 'b', 'a', 3, 4, 5, 2, 1, 3, 4, 5, 2, 1, 3, 4, 5, 2, 1, 3, 4, 5, 2, 1, 3, 4, 5, 2, 1, 3, 4, 5, 2, 1, 3, 4, 5, 2, 3, 4, 'Hello', 3, 5, 'one']\n"
     ]
    }
   ],
   "source": [
    "l.reverse()\n",
    "print(l)"
   ]
  },
  {
   "cell_type": "code",
   "execution_count": 43,
   "metadata": {},
   "outputs": [
    {
     "name": "stdout",
     "output_type": "stream",
     "text": [
      "['a', 'b', 'e', 'i', 'p', 'q', 'q']\n"
     ]
    }
   ],
   "source": [
    "l1=['e','i','q','a','q','p','b']\n",
    "l1.sort()\n",
    "print(l1)"
   ]
  },
  {
   "cell_type": "code",
   "execution_count": 44,
   "metadata": {},
   "outputs": [
    {
     "name": "stdout",
     "output_type": "stream",
     "text": [
      "[]\n"
     ]
    }
   ],
   "source": [
    "l.clear()\n",
    "print(l)"
   ]
  },
  {
   "cell_type": "markdown",
   "metadata": {},
   "source": [
    "# Creating a Matrix"
   ]
  },
  {
   "cell_type": "code",
   "execution_count": 20,
   "metadata": {},
   "outputs": [
    {
     "name": "stdout",
     "output_type": "stream",
     "text": [
      "Enter the number of rows:2\n",
      "Enter the number of columns:2\n",
      "Enter the entries rowwise:\n",
      "1\n",
      "2\n",
      "3\n",
      "4\n",
      "1 2 \n",
      "3 4 \n"
     ]
    }
   ],
   "source": [
    "R = int(input(\"Enter the number of rows:\")) \n",
    "C = int(input(\"Enter the number of columns:\")) \n",
    "  \n",
    "# Initialize matrix \n",
    "matrix = [] \n",
    "print(\"Enter the entries rowwise:\") \n",
    "  \n",
    "# For user input \n",
    "for i in range(R):          # A for loop for row entries \n",
    "    a =[] \n",
    "    for j in range(C):      # A for loop for column entries \n",
    "         a.append(int(input())) \n",
    "    matrix.append(a) \n",
    "  \n",
    "# For printing the matrix \n",
    "for i in range(R): \n",
    "    for j in range(C): \n",
    "        print(matrix[i][j], end = \" \") \n",
    "    print() "
   ]
  },
  {
   "cell_type": "markdown",
   "metadata": {},
   "source": [
    "# Lab 4\n",
    "1. WAP to find minimum element from a list of integers alongwith its index in the list\n",
    "2. WAP to calcualte mean of a given list of numbers\n",
    "3. WAP to search an element in a list\n",
    "4. WAP to count the frequency of an element in a list\n",
    "5. WAP to find frequencies of all elements in a list\n",
    "6. WAP to extact two slices from a list and add the slices and find which one is greater\n",
    "7. WAP to find second largest number of a list\n",
    "8. WAP to input a list of numbers and shift all zeros to the right and all non zeros to left of the list\n",
    "9. WAP to add two matrices\n",
    "10. WAP to multiply two matrices\n",
    "11. WAP to print transpose of a matrix\n",
    "12. WAP to add elements of diagonal of a matrix\n",
    "13. WAP to find an element in a matrix\n",
    "14. WAP to find inverse of a matrix"
   ]
  },
  {
   "cell_type": "code",
   "execution_count": 4,
   "metadata": {},
   "outputs": [
    {
     "name": "stdout",
     "output_type": "stream",
     "text": [
      "enter n: 5\n",
      "enter list ele4\n",
      "enter list ele3\n",
      "enter list ele1\n",
      "enter list ele5\n",
      "enter list ele2\n",
      "minimun list ele is  1\n",
      "and index of it is  2\n"
     ]
    }
   ],
   "source": [
    "#WAP to find minimum element from a list of integers alongwith its index in the list\n",
    "list = []\n",
    "num = int(input(\"enter n: \"))\n",
    "for i in range(0, num):\n",
    "    list.append(int(input(\"enter list ele\")))\n",
    "minNum = min(list)\n",
    "indexNum = list.index(minNum)\n",
    "print(\"minimun list ele is \", minNum)\n",
    "print(\"and index of it is \", indexNum)"
   ]
  },
  {
   "cell_type": "code",
   "execution_count": 9,
   "metadata": {},
   "outputs": [
    {
     "name": "stdout",
     "output_type": "stream",
     "text": [
      "enter n: 2\n",
      "enter list ele3\n",
      "enter list ele5\n",
      "mean of a given list of numbers is  4.0\n"
     ]
    }
   ],
   "source": [
    "#WAP to calcualte mean of a given list of numbers\n",
    "list = []\n",
    "num = int(input(\"enter n: \"))\n",
    "for i in range(0, num):\n",
    "    list.append(int(input(\"enter list ele\")))\n",
    "print(\"mean of a given list of numbers is \", sum(list)/len(list))"
   ]
  },
  {
   "cell_type": "code",
   "execution_count": 11,
   "metadata": {},
   "outputs": [
    {
     "name": "stdout",
     "output_type": "stream",
     "text": [
      "enter n: 6\n",
      "enter list ele2\n",
      "enter list ele4\n",
      "enter list ele6\n",
      "enter list ele8\n",
      "enter list ele4\n",
      "enter list ele1\n",
      "enter num to be search: 8\n",
      "element found at index value 3\n"
     ]
    }
   ],
   "source": [
    "#WAP to search an element in a list\n",
    "list = []\n",
    "num = int(input(\"enter n: \"))\n",
    "for i in range(0, num):\n",
    "    list.append(int(input(\"enter list ele\")))\n",
    "search = int(input(\"enter num to be search: \"))\n",
    "f = 0\n",
    "for i in list:\n",
    "    if i==search:\n",
    "        print(\"element found at index value\", list.index(i))\n",
    "        f = 1\n",
    "        exit\n",
    "if f==0:\n",
    "    print(\"element not found\")"
   ]
  },
  {
   "cell_type": "code",
   "execution_count": 13,
   "metadata": {},
   "outputs": [
    {
     "name": "stdout",
     "output_type": "stream",
     "text": [
      "enter n: 5\n",
      "enter list ele1\n",
      "enter list ele1\n",
      "enter list ele1\n",
      "enter list ele3\n",
      "enter list ele2\n",
      "enter num whose frequency you wanted to know: 1\n",
      "frequency of  1  is  3\n"
     ]
    }
   ],
   "source": [
    "#WAP to count the frequency of an element in a list\n",
    "list = []\n",
    "num = int(input(\"enter n: \"))\n",
    "for i in range(0, num):\n",
    "    list.append(int(input(\"enter list ele\")))\n",
    "freq = int(input(\"enter num whose frequency you wanted to know: \"))\n",
    "c = 0\n",
    "for i in list:\n",
    "    if i==freq:\n",
    "        c +=1\n",
    "print(\"frequency of \", freq, \" is \", c)"
   ]
  },
  {
   "cell_type": "code",
   "execution_count": 14,
   "metadata": {},
   "outputs": [
    {
     "name": "stdout",
     "output_type": "stream",
     "text": [
      "enter n: 5\n",
      "enter list ele1\n",
      "enter list ele1\n",
      "enter list ele2\n",
      "enter list ele2\n",
      "enter list ele3\n",
      "frequency of  1  is  2\n",
      "frequency of  1  is  2\n",
      "frequency of  2  is  2\n",
      "frequency of  2  is  2\n",
      "frequency of  3  is  1\n"
     ]
    }
   ],
   "source": [
    "#WAP to find frequencies of all elements in a list\n",
    "list = []\n",
    "num = int(input(\"enter n: \"))\n",
    "for i in range(0, num):\n",
    "    list.append(int(input(\"enter list ele\")))\n",
    "for i in list:\n",
    "    c = 0\n",
    "    for j in list:\n",
    "        if j==i:\n",
    "            c += 1\n",
    "    print(\"frequency of \", i, \" is \", c)"
   ]
  },
  {
   "cell_type": "code",
   "execution_count": 6,
   "metadata": {},
   "outputs": [
    {
     "name": "stdout",
     "output_type": "stream",
     "text": [
      "enter n(should exceed 10): 6\n",
      "enter list ele6\n",
      "enter list ele5\n",
      "enter list ele4\n",
      "enter list ele3\n",
      "enter list ele2\n",
      "enter list ele1\n",
      "3\n",
      "slice s1 is having greater sum value\n"
     ]
    }
   ],
   "source": [
    "#WAP to extact two slices from a list and add the slices and find which one is greater\n",
    "list = []\n",
    "n = int(input(\"enter n(should exceed 10): \"))\n",
    "for i in range(0, n):\n",
    "    list.append(int(input(\"enter list ele\")))\n",
    "mid = int(n/2)\n",
    "s1 = list[:mid]\n",
    "s2 = list[mid:]\n",
    "if sum(s1)>sum(s2):\n",
    "    print(\"slice s1 is having greater sum value\")\n",
    "else:\n",
    "    print(\"slice s2 is having greater sum value\")"
   ]
  },
  {
   "cell_type": "code",
   "execution_count": 12,
   "metadata": {},
   "outputs": [
    {
     "name": "stdout",
     "output_type": "stream",
     "text": [
      "enter n(should exceed 10): 5\n",
      "enter list ele7\n",
      "enter list ele3\n",
      "enter list ele5\n",
      "enter list ele6\n",
      "enter list ele1\n",
      "second largest num is  6\n"
     ]
    }
   ],
   "source": [
    "#WAP to find second largest number of a list\n",
    "list = []\n",
    "n = int(input(\"enter n(should exceed 10): \"))\n",
    "for i in range(0, n):\n",
    "    list.append(int(input(\"enter list ele\")))\n",
    "max1 = max(list)\n",
    "max2 = min(list)\n",
    "for x in list:\n",
    "    if x>max2 and x<max1:\n",
    "        max2 = x\n",
    "print(\"second largest num is \", max2)"
   ]
  },
  {
   "cell_type": "code",
   "execution_count": 13,
   "metadata": {},
   "outputs": [
    {
     "name": "stdout",
     "output_type": "stream",
     "text": [
      "enter n(should exceed 10): 5\n",
      "enter list ele0\n",
      "enter list ele1\n",
      "enter list ele0\n",
      "enter list ele1\n",
      "enter list ele0\n",
      "[0, 0, 0, 1, 1]\n"
     ]
    }
   ],
   "source": [
    "#WAP to input a list of numbers and shift all zeros to the right and all non zeros to left of the list\n",
    "list = []\n",
    "n = int(input(\"enter n(should exceed 10): \"))\n",
    "for i in range(0, n):\n",
    "    list.append(int(input(\"enter list ele\")))\n",
    "list2 = []\n",
    "for x in list:\n",
    "    if x==0:\n",
    "        list2.insert(0, x)\n",
    "    else:\n",
    "        list2.insert(n-1, x)\n",
    "print(list2)"
   ]
  },
  {
   "cell_type": "code",
   "execution_count": 22,
   "metadata": {},
   "outputs": [
    {
     "name": "stdout",
     "output_type": "stream",
     "text": [
      "Enter the number of rows:2\n",
      "Enter the number of columns:2\n",
      "Enter the entries rowwise for first matrix:\n",
      "1\n",
      "2\n",
      "3\n",
      "4\n",
      "Enter the entries rowwise for second matrix:\n",
      "1\n",
      "1\n",
      "1\n",
      "1\n",
      "2 3 \n",
      "4 5 \n"
     ]
    }
   ],
   "source": [
    "# WAP to add two matrices\n",
    "R = int(input(\"Enter the number of rows:\")) \n",
    "C = int(input(\"Enter the number of columns:\"))\n",
    "matrix1 = [] \n",
    "print(\"Enter the entries rowwise for first matrix:\")\n",
    "for i in range(R):          # A for loop for row entries \n",
    "    a =[] \n",
    "    for j in range(C):      # A for loop for column entries \n",
    "         a.append(int(input())) \n",
    "    matrix1.append(a)  \n",
    "    \n",
    "matrix2 = [] \n",
    "print(\"Enter the entries rowwise for second matrix:\")  \n",
    "\n",
    "for i in range(R):          # A for loop for row entries \n",
    "    a =[] \n",
    "    for j in range(C):      # A for loop for column entries \n",
    "         a.append(int(input())) \n",
    "    matrix2.append(a) \n",
    "print(\"addition of matrix - \")\n",
    "for i in range(R): \n",
    "    for j in range(C): \n",
    "        print(matrix1[i][j] + matrix2[i][j], end = \" \")\n",
    "    print()"
   ]
  },
  {
   "cell_type": "code",
   "execution_count": 1,
   "metadata": {},
   "outputs": [
    {
     "name": "stdout",
     "output_type": "stream",
     "text": [
      "Enter the number of rows:2\n",
      "Enter the number of columns:2\n",
      "Enter the entries rowwise for first matrix:\n",
      "1\n",
      "2\n",
      "3\n",
      "4\n",
      "Enter the entries rowwise for second matrix:\n",
      "4\n",
      "3\n",
      "2\n",
      "1\n",
      "multiplication of matrix - \n",
      "8 5 \n",
      "20 13 \n"
     ]
    }
   ],
   "source": [
    "#WAP to multiply two matrices\n",
    "R = int(input(\"Enter the number of rows:\")) \n",
    "C = int(input(\"Enter the number of columns:\"))\n",
    "matrix1 = [] \n",
    "print(\"Enter the entries rowwise for first matrix:\")\n",
    "for i in range(R):          # A for loop for row entries \n",
    "    a =[] \n",
    "    for j in range(C):      # A for loop for column entries \n",
    "         a.append(int(input())) \n",
    "    matrix1.append(a)  \n",
    "    \n",
    "matrix2 = [] \n",
    "print(\"Enter the entries rowwise for second matrix:\")  \n",
    "\n",
    "for i in range(R):          # A for loop for row entries \n",
    "    a =[] \n",
    "    for j in range(C):      # A for loop for column entries \n",
    "         a.append(int(input())) \n",
    "    matrix2.append(a) \n",
    "print(\"multiplication of matrix - \")\n",
    "multi = []\n",
    "for i in range(R): \n",
    "    a = []\n",
    "    for j in range(C):\n",
    "        sum = 0\n",
    "        for k in range(R):\n",
    "            sum += matrix1[i][k] * matrix2[k][j]\n",
    "        a.append(sum)\n",
    "    multi.append(a)\n",
    "    \n",
    "for i in range(R): \n",
    "    for j in range(C):   \n",
    "        print(multi[i][j], end=\" \")\n",
    "    print()"
   ]
  },
  {
   "cell_type": "code",
   "execution_count": 8,
   "metadata": {},
   "outputs": [
    {
     "name": "stdout",
     "output_type": "stream",
     "text": [
      "Enter the number of rows:2\n",
      "Enter the number of columns:3\n",
      "Enter the entries rowwise for first matrix:\n",
      "1\n",
      "2\n",
      "3\n",
      "4\n",
      "5\n",
      "6\n",
      "transpose of this matrix is \n",
      "1 4 \n",
      "2 5 \n",
      "3 6 \n"
     ]
    }
   ],
   "source": [
    "#WAP to print transpose of a matrix\n",
    "R = int(input(\"Enter the number of rows:\")) \n",
    "C = int(input(\"Enter the number of columns:\"))\n",
    "matrix = [] \n",
    "print(\"Enter the entries rowwise for first matrix:\")\n",
    "for i in range(R):          # A for loop for row entries \n",
    "    a =[] \n",
    "    for j in range(C):      # A for loop for column entries \n",
    "         a.append(int(input())) \n",
    "    matrix.append(a)\n",
    "print(\"transpose of this matrix is \")\n",
    "for i in range(C): \n",
    "    for j in range(R):   \n",
    "        print(matrix[j][i], end=\" \")\n",
    "    print()"
   ]
  },
  {
   "cell_type": "code",
   "execution_count": 4,
   "metadata": {},
   "outputs": [
    {
     "name": "stdout",
     "output_type": "stream",
     "text": [
      "Enter the number of rows:3\n",
      "Enter the number of columns:3\n",
      "Enter the entries rowwise for first matrix:\n",
      "1\n",
      "2\n",
      "3\n",
      "4\n",
      "5\n",
      "6\n",
      "7\n",
      "8\n",
      "9\n",
      "diagonal sum of this matrix is  15\n"
     ]
    }
   ],
   "source": [
    "#WAP to add elements of diagonal of a matrix\n",
    "R = int(input(\"Enter the number of rows:\")) \n",
    "C = int(input(\"Enter the number of columns:\"))\n",
    "matrix = [] \n",
    "print(\"Enter the entries rowwise for first matrix:\")\n",
    "for i in range(R):          # A for loop for row entries \n",
    "    a =[] \n",
    "    for j in range(C):      # A for loop for column entries \n",
    "         a.append(int(input())) \n",
    "    matrix.append(a)\n",
    "diagonalSum = 0\n",
    "for i in range(R): \n",
    "    for j in range(C): \n",
    "        if j==i:\n",
    "            diagonalSum += matrix[i][j]\n",
    "print(\"diagonal sum of this matrix is \",diagonalSum)"
   ]
  },
  {
   "cell_type": "code",
   "execution_count": 9,
   "metadata": {},
   "outputs": [
    {
     "name": "stdout",
     "output_type": "stream",
     "text": [
      "Enter the number of rows:2\n",
      "Enter the number of columns:3\n",
      "Enter the entries rowwise :\n",
      "1\n",
      "2\n",
      "3\n",
      "4\n",
      "5\n",
      "6\n",
      "enter element to be search :4\n",
      "1 2 3 \n",
      "4 5 6 \n",
      "element found in the matrix at index value  1 0\n"
     ]
    }
   ],
   "source": [
    "#WAP to find an element in a matrix\n",
    "R = int(input(\"Enter the number of rows:\")) \n",
    "C = int(input(\"Enter the number of columns:\"))\n",
    "matrix = [] \n",
    "print(\"Enter the entries rowwise :\")\n",
    "for i in range(R):          # A for loop for row entries \n",
    "    a =[] \n",
    "    for j in range(C):      # A for loop for column entries \n",
    "         a.append(int(input())) \n",
    "    matrix.append(a)\n",
    "searchElement = int(input(\"enter element to be search :\"))\n",
    "f = 0\n",
    "for i in range(R): \n",
    "    for j in range(C):   \n",
    "        print(matrix[i][j], end=\" \")\n",
    "    print()\n",
    "for i in range(R): \n",
    "    for j in range(C): \n",
    "        if matrix[i][j]==searchElement:\n",
    "            f = 1\n",
    "            print(\"element found in the matrix at index value \", i, j)\n",
    "if f==0:\n",
    "    print(\"oops element not found\")"
   ]
  },
  {
   "cell_type": "code",
   "execution_count": 10,
   "metadata": {},
   "outputs": [],
   "source": [
    "#WAP to find inverse of a matrix\n",
    "#sir you didn't specify if we can use numpy or not since coding\n",
    "#without using numpy will take time and will be lenghthy, so I'll do it later"
   ]
  }
 ],
 "metadata": {
  "kernelspec": {
   "display_name": "Python 3",
   "language": "python",
   "name": "python3"
  },
  "language_info": {
   "codemirror_mode": {
    "name": "ipython",
    "version": 3
   },
   "file_extension": ".py",
   "mimetype": "text/x-python",
   "name": "python",
   "nbconvert_exporter": "python",
   "pygments_lexer": "ipython3",
   "version": "3.7.6"
  }
 },
 "nbformat": 4,
 "nbformat_minor": 2
}
