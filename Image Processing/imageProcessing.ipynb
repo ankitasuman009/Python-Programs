{
 "cells": [
  {
   "cell_type": "code",
   "execution_count": 1,
   "metadata": {},
   "outputs": [
    {
     "name": "stdout",
     "output_type": "stream",
     "text": [
      "Requirement already satisfied: pillow in c:\\users\\asus\\anaconda3\\lib\\site-packages (7.0.0)\n",
      "Note: you may need to restart the kernel to use updated packages.\n"
     ]
    }
   ],
   "source": [
    "pip install pillow"
   ]
  },
  {
   "cell_type": "markdown",
   "metadata": {},
   "source": [
    "# Read Image"
   ]
  },
  {
   "cell_type": "code",
   "execution_count": 27,
   "metadata": {},
   "outputs": [],
   "source": [
    "from PIL import Image\n",
    "img = Image.open(\"C:/Users/ASUS/OneDrive/Desktop/oldTown.jpg\")\n",
    "width, height = img.size"
   ]
  },
  {
   "cell_type": "code",
   "execution_count": 3,
   "metadata": {},
   "outputs": [],
   "source": [
    "img.show()"
   ]
  },
  {
   "cell_type": "markdown",
   "metadata": {},
   "source": [
    "## Change image to white"
   ]
  },
  {
   "cell_type": "code",
   "execution_count": 7,
   "metadata": {},
   "outputs": [],
   "source": [
    "def filter_to_white(img):\n",
    "    width, height = img.size\n",
    "    new_img = Image.new(\"RGB\", (width, height), \"white\")\n",
    "    return new_img"
   ]
  },
  {
   "cell_type": "code",
   "execution_count": 8,
   "metadata": {},
   "outputs": [],
   "source": [
    "filter_to_white(img).show()"
   ]
  },
  {
   "cell_type": "markdown",
   "metadata": {},
   "source": [
    "#### Grayscale is the avg value of RGB of each pixel "
   ]
  },
  {
   "cell_type": "code",
   "execution_count": 16,
   "metadata": {},
   "outputs": [],
   "source": [
    "def grayscale(img):\n",
    "    new_gray_img = img\n",
    "    for x in range(width):\n",
    "        for y in range(height):\n",
    "            r, g, b = img.getpixel((x, y))\n",
    "            r_ = g_ = b_ = (r + g + b)/3\n",
    "            new_pixel = (int(r_), int(g_), int(b_))\n",
    "            new_gray_img.putpixel((x, y), new_pixel)\n",
    "    return new_gray_img"
   ]
  },
  {
   "cell_type": "code",
   "execution_count": 17,
   "metadata": {},
   "outputs": [],
   "source": [
    "grayscale(img).show()"
   ]
  },
  {
   "cell_type": "markdown",
   "metadata": {},
   "source": [
    "#### Brightness should be in range 0-255, purpose of using truncate function."
   ]
  },
  {
   "cell_type": "code",
   "execution_count": 28,
   "metadata": {},
   "outputs": [],
   "source": [
    "\n",
    "def truncate(change):\n",
    "    return min(255, max(0, change))\n",
    "\n",
    "def brightness(img):\n",
    "    new_bright_img = img\n",
    "    d = int(input(\"enter any value between -255 to 255. Negative moves to darknwss and positive to lightness: \"))\n",
    "    for x in range(width):\n",
    "        for y in range(height):\n",
    "            r, g, b = img.getpixel((x, y))\n",
    "            r_ = truncate(r + d)\n",
    "            g_ = truncate(g + d)\n",
    "            b_ = truncate(b + d)\n",
    "            new_pixel = (int(r_), int(g_), int(b_))\n",
    "            new_bright_img.putpixel((x, y), new_pixel)\n",
    "    return new_bright_img"
   ]
  },
  {
   "cell_type": "code",
   "execution_count": 29,
   "metadata": {},
   "outputs": [
    {
     "name": "stdout",
     "output_type": "stream",
     "text": [
      "enter any value between -255 to 255. Negative moves to darknwss and positive to lightness: 100\n"
     ]
    }
   ],
   "source": [
    "brightness(img).show()"
   ]
  },
  {
   "cell_type": "markdown",
   "metadata": {},
   "source": [
    "#### Contrast value of 0 means that all pixels have the same brightness value. A contrast value of 1 means that the difference between the highest brightness and lowest brightness is 255 (maximum difference).\n"
   ]
  },
  {
   "cell_type": "code",
   "execution_count": 30,
   "metadata": {},
   "outputs": [],
   "source": [
    "\n",
    "\n",
    "import numpy as np\n",
    "\n",
    "\n",
    "def contrast(img):\n",
    "    new_contrast_img = img\n",
    "    # convert into array of 3 dimension\n",
    "    data = np.array(img)\n",
    "    \n",
    "    # calculate avg brightness\n",
    "    u = np.mean(data, axis=2)\n",
    "    u_mean = u.mean()\n",
    "\n",
    "    beta = int(input(\"enter any value between -255 to 255. Negative moves to darkness and positive to lightness: \"))\n",
    "\n",
    "    # if beta=255 then division with 0 is not possible, so we are taking alpha infinity in that case\n",
    "    if beta == 255:\n",
    "        alpha = np.infty\n",
    "    else:\n",
    "        alpha = (255+beta)/(255-beta)\n",
    "    \n",
    "    for x in range(width):\n",
    "        for y in range(height):\n",
    "            r, g, b = img.getpixel((x, y))\n",
    "            r_ = truncate(alpha*(r - u_mean) + u_mean)\n",
    "            g_ = truncate(alpha*(g - u_mean) + u_mean)\n",
    "            b_ = truncate(alpha*(b - u_mean) + u_mean)\n",
    "            new_pixel = (int(r_), int(g_), int(b_))\n",
    "            new_contrast_img.putpixel((x, y), new_pixel)\n",
    "    return new_contrast_img"
   ]
  },
  {
   "cell_type": "code",
   "execution_count": 31,
   "metadata": {},
   "outputs": [
    {
     "name": "stdout",
     "output_type": "stream",
     "text": [
      "enter any value between -255 to 255. Negative moves to darkness and positive to lightness: 100\n"
     ]
    }
   ],
   "source": [
    "contrast(img).show()"
   ]
  },
  {
   "cell_type": "markdown",
   "metadata": {},
   "source": [
    "#### Saturation of a pixel is converting the RGB colors into HSV/HSL (in which S stands for saturation), change the saturation value, and then convert back to RGB.\n",
    "\n",
    "#### Changing the saturation should not affect the brightness of the color.\n",
    "\n",
    "#### We are taking mean of individual pixel unlike the mean taken in contrast which was of whole image\n"
   ]
  },
  {
   "cell_type": "code",
   "execution_count": 37,
   "metadata": {},
   "outputs": [],
   "source": [
    "\n",
    "def saturation(img):\n",
    "    new_saturation_img = img\n",
    "    beta = int(input(\"enter any value between -255 to 255. Negative moves to darkness and positive to lightness: \"))\n",
    "    # if beta=255 then division with 0 is not possible, so we are taking alpha infinity in that case\n",
    "    if beta == 255:\n",
    "        alpha = np.infty\n",
    "    else:\n",
    "        alpha = (255+beta)/(255-beta)\n",
    "    \n",
    "    for x in range(width):\n",
    "        for y in range(height):\n",
    "            r, g, b = img.getpixel((x, y))\n",
    "            u_mean = (r+g+b)/3\n",
    "            r_ = truncate(alpha*(r - u_mean) + u_mean)\n",
    "            g_ = truncate(alpha*(g - u_mean) + u_mean)\n",
    "            b_ = truncate(alpha*(b - u_mean) + u_mean)\n",
    "            new_pixel = (int(r_), int(g_), int(b_))\n",
    "            new_saturation_img.putpixel((x, y), new_pixel)\n",
    "    return new_saturation_img"
   ]
  },
  {
   "cell_type": "code",
   "execution_count": 38,
   "metadata": {},
   "outputs": [
    {
     "name": "stdout",
     "output_type": "stream",
     "text": [
      "enter any value between -255 to 255. Negative moves to darkness and positive to lightness: 100\n"
     ]
    }
   ],
   "source": [
    "saturation(img).show()"
   ]
  },
  {
   "cell_type": "code",
   "execution_count": null,
   "metadata": {},
   "outputs": [],
   "source": []
  }
 ],
 "metadata": {
  "kernelspec": {
   "display_name": "Python 3",
   "language": "python",
   "name": "python3"
  },
  "language_info": {
   "codemirror_mode": {
    "name": "ipython",
    "version": 3
   },
   "file_extension": ".py",
   "mimetype": "text/x-python",
   "name": "python",
   "nbconvert_exporter": "python",
   "pygments_lexer": "ipython3",
   "version": "3.7.6"
  }
 },
 "nbformat": 4,
 "nbformat_minor": 4
}
