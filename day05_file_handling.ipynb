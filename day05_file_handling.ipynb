{
 "cells": [
  {
   "cell_type": "code",
   "execution_count": 81,
   "metadata": {},
   "outputs": [
    {
     "data": {
      "text/plain": [
       "35"
      ]
     },
     "execution_count": 81,
     "metadata": {},
     "output_type": "execute_result"
    }
   ],
   "source": [
    "f = open(\"Hello.txt\",\"w\")  #Open a file in a write mode\n",
    "f.write(\"This is my first line of the file\\n\")\n",
    "f.write(\"This is the second line of the file\")"
   ]
  },
  {
   "cell_type": "code",
   "execution_count": 82,
   "metadata": {},
   "outputs": [],
   "source": [
    "f.close()"
   ]
  },
  {
   "cell_type": "code",
   "execution_count": 3,
   "metadata": {},
   "outputs": [
    {
     "name": "stdout",
     "output_type": "stream",
     "text": [
      "This is my first line of the file\n",
      "This is the second line of the file\n"
     ]
    }
   ],
   "source": [
    "f = open('Hello.txt', 'r')\n",
    "print(f.read())"
   ]
  },
  {
   "cell_type": "code",
   "execution_count": 8,
   "metadata": {},
   "outputs": [
    {
     "name": "stdout",
     "output_type": "stream",
     "text": [
      "This is my first line of the file\n",
      "\n",
      "This is the second line of the file\n"
     ]
    }
   ],
   "source": [
    "f = open(\"Hello.txt\",\"r\")  #Open a file in a read mode\n",
    "for line in f:\n",
    "    print(line)\n",
    "f.close()"
   ]
  },
  {
   "cell_type": "code",
   "execution_count": 4,
   "metadata": {},
   "outputs": [
    {
     "name": "stdout",
     "output_type": "stream",
     "text": [
      "T h i s   i s   m y   f i r s t   l i n e   o f   t h e   f i l e \n",
      " T h i s   i s   t h e   s e c o n d   l i n e   o f   t h e   f i l e "
     ]
    }
   ],
   "source": [
    "f = open(\"Hello.txt\",\"r\")\n",
    "fo = f.read()    #Reads the entire file in one go\n",
    "for i in fo:\n",
    "    print(i, end=\" \")\n",
    "f.close()"
   ]
  },
  {
   "cell_type": "code",
   "execution_count": 7,
   "metadata": {},
   "outputs": [
    {
     "name": "stdout",
     "output_type": "stream",
     "text": [
      "This\n",
      "is\n",
      "my\n",
      "first\n",
      "line\n",
      "of\n",
      "the\n",
      "file\n"
     ]
    }
   ],
   "source": [
    "f = open(\"Hello.txt\",\"r\")\n",
    "for line in (f.readline()).split():  #Reads the one line at a time\n",
    "    print(line)\n",
    "f.close()"
   ]
  },
  {
   "cell_type": "code",
   "execution_count": 9,
   "metadata": {},
   "outputs": [
    {
     "name": "stdout",
     "output_type": "stream",
     "text": [
      "T h i s   i s   m y   f i r s t   l i n e   o f   t h e   f i l e \n",
      " T h i s   i s   t h e   s e c o n d   l i n e   o f   t h e   f i l e "
     ]
    }
   ],
   "source": [
    "f = open(\"Hello.txt\",\"r\")\n",
    "for i in f.read():\n",
    "    print(i, end=\" \")\n",
    "f.close()"
   ]
  },
  {
   "cell_type": "code",
   "execution_count": 83,
   "metadata": {},
   "outputs": [],
   "source": [
    "f = open(\"Hello.txt\",\"a\")   #Open a file in a append mode\n",
    "f.write(\"This is a text written by append\")\n",
    "f.close()"
   ]
  },
  {
   "cell_type": "code",
   "execution_count": 84,
   "metadata": {},
   "outputs": [],
   "source": [
    "f = open(\"Hello.txt\",\"a\")\n",
    "f.write(\"\\nThis is a text written by append\\n\")\n",
    "f.close()"
   ]
  },
  {
   "cell_type": "code",
   "execution_count": 85,
   "metadata": {},
   "outputs": [
    {
     "name": "stdout",
     "output_type": "stream",
     "text": [
      "This is my first line of the file\n",
      "\n"
     ]
    }
   ],
   "source": [
    "f = open(\"Hello.txt\",\"r+\")   #Open a file in a read/write mode\n",
    "print(f.readline())\n",
    "f.write(\"This is a text written by read+write\\n\")\n",
    "f.close()"
   ]
  },
  {
   "cell_type": "markdown",
   "metadata": {},
   "source": [
    "# Lab 6\n",
    "1. WAP to read a file and print the number of characters, words and lines it has\n",
    "2. WAP to copy contents of one file into another file\n",
    "3. WAP to read a file and count the number of vowels it has\n",
    "4. WAP to read a file and count the number of articles it has\n",
    "5. WAP to read a file reverse the contents of file (last line of the file should become the first line of the file)"
   ]
  },
  {
   "cell_type": "code",
   "execution_count": 41,
   "metadata": {},
   "outputs": [
    {
     "name": "stdout",
     "output_type": "stream",
     "text": [
      "T h i s i s m y f i r s t l i n e o f t h e f i l e T h i s i s t h e s e c o n d l i n e o f t h e f i l e T h i s i s a t e x t w r i t t e n b y a p p e n d T h i s i s a t e x t w r i t t e n b y a p p e n d T h i s i s a t e x t w r i t t e n b y r e a d + w r i t e no. of characters =  136 no. of words =  36 no. of lines =  4\n"
     ]
    }
   ],
   "source": [
    "#WAP to read a file and print the number of characters, words and lines it has\n",
    "l, w, c = 0, 0, 0\n",
    "with open(\"Hello.txt\", \"r\") as f:\n",
    "    for line in f:\n",
    "        wordArray = line.split()\n",
    "        for words in wordArray:\n",
    "            w += 1\n",
    "            for i in words:\n",
    "                print(i, end=\" \")\n",
    "                c += 1\n",
    "        l += 1\n",
    "print(\"no. of characters = \", c, \"no. of words = \", w, \"no. of lines = \", l)"
   ]
  },
  {
   "cell_type": "code",
   "execution_count": 51,
   "metadata": {},
   "outputs": [
    {
     "name": "stdout",
     "output_type": "stream",
     "text": [
      "Copied data in second file----\n",
      "\n",
      "This is my first line of the file\n",
      "This is the second line of the fileThis is a text written by append\n",
      "This is a text written by append\n",
      "This is a text written by read+write\n",
      "\n"
     ]
    }
   ],
   "source": [
    "#WAP to copy contents of one file into another file\n",
    "file2 = open(\"second.txt\", \"w\")\n",
    "with open(\"Hello.txt\", \"r\") as file:\n",
    "    for line in file:\n",
    "        file2.write(line)\n",
    "file2.close()\n",
    "with open(\"second.txt\", \"r\") as s:\n",
    "    print(\"Copied data in second file----\\n\")\n",
    "    print(s.read())"
   ]
  },
  {
   "cell_type": "code",
   "execution_count": 58,
   "metadata": {},
   "outputs": [
    {
     "name": "stdout",
     "output_type": "stream",
     "text": [
      "No. of vowels this file contains is  46\n"
     ]
    }
   ],
   "source": [
    "#WAP to read a file and count the number of vowels it has\n",
    "v = 0\n",
    "with open(\"Hello.txt\") as file:\n",
    "    for characters in file.read():\n",
    "        characters = characters.lower()\n",
    "        if characters in ['a', 'e', 'i', 'o', 'u']:\n",
    "            v += 1\n",
    "print(\"No. of vowels this file contains is \", v)"
   ]
  },
  {
   "cell_type": "code",
   "execution_count": 59,
   "metadata": {},
   "outputs": [
    {
     "name": "stdout",
     "output_type": "stream",
     "text": [
      "No. of articles this file contains is  6\n"
     ]
    }
   ],
   "source": [
    "#WAP to read a file and count the number of articles it has\n",
    "a = 0\n",
    "with open(\"Hello.txt\") as file:\n",
    "    for characters in file.read():\n",
    "        characters = characters.lower()\n",
    "        if characters in ['a', 'an', 'the']:\n",
    "            a += 1\n",
    "print(\"No. of articles this file contains is \", a)"
   ]
  },
  {
   "cell_type": "code",
   "execution_count": 90,
   "metadata": {},
   "outputs": [
    {
     "name": "stdout",
     "output_type": "stream",
     "text": [
      "Data in files----\n",
      "\n",
      "This is my first line of the file\n",
      "\n",
      "This is the second line of the fileThis is a text written by append\n",
      "\n",
      "This is a text written by append\n",
      "\n",
      "This is a text written by read+write\n",
      "\n",
      "Reverse data in files----\n",
      "\n",
      "This is a text written by read+write\n",
      "This is a text written by append\n",
      "This is the second line of the fileThis is a text written by append\n",
      "This is my first line of the file\n",
      "\n"
     ]
    }
   ],
   "source": [
    "#WAP to read a file reverse the contents of file (last line of the file should become the first line of the file)\n",
    "list1 = []\n",
    "with open(\"Hello.txt\", \"r\") as file:\n",
    "    print(\"Data in files----\\n\")\n",
    "    for lines in file.readlines():\n",
    "        print(lines)\n",
    "        list1.insert(0, lines)\n",
    "with open(\"Hello.txt\", \"w\") as file:\n",
    "    for lines in list1:\n",
    "        file.write(lines)\n",
    "with open(\"Hello.txt\", \"r\") as file:\n",
    "    print(\"Reverse data in files----\\n\")\n",
    "    print(file.read())"
   ]
  }
 ],
 "metadata": {
  "kernelspec": {
   "display_name": "Python 3",
   "language": "python",
   "name": "python3"
  },
  "language_info": {
   "codemirror_mode": {
    "name": "ipython",
    "version": 3
   },
   "file_extension": ".py",
   "mimetype": "text/x-python",
   "name": "python",
   "nbconvert_exporter": "python",
   "pygments_lexer": "ipython3",
   "version": "3.7.6"
  }
 },
 "nbformat": 4,
 "nbformat_minor": 4
}
