{
 "cells": [
  {
   "cell_type": "code",
   "execution_count": 5,
   "metadata": {},
   "outputs": [
    {
     "name": "stdout",
     "output_type": "stream",
     "text": [
      "Enter any random number35\n",
      "num  35  is divisible by 7\n"
     ]
    }
   ],
   "source": [
    "#WAPP to check if a number is divisible by 7\n",
    "num = int(input(\"Enter any random number\"))\n",
    "if num%7 == 0:\n",
    "    print(\"num \", num, \" is divisible by 7\")\n",
    "else: \n",
    "    print(\"not divisible by 7\")"
   ]
  },
  {
   "cell_type": "code",
   "execution_count": 9,
   "metadata": {},
   "outputs": [
    {
     "name": "stdout",
     "output_type": "stream",
     "text": [
      "Enter any random number2\n",
      "entered num is even\n"
     ]
    }
   ],
   "source": [
    "#WAPP to check if a no is even or no\n",
    "num = int(input(\"Enter any random number\"))\n",
    "if num%2==0:\n",
    "    print(\"entered num is even\")\n",
    "else:\n",
    "    print(\"entered num is odd\")"
   ]
  },
  {
   "cell_type": "code",
   "execution_count": 29,
   "metadata": {},
   "outputs": [
    {
     "name": "stdout",
     "output_type": "stream",
     "text": [
      "Enter any random number5\n",
      "num is prime\n"
     ]
    }
   ],
   "source": [
    "#WAPP to check if a num is prime or not\n",
    "num = int(input(\"Enter any random number \"))\n",
    "f = 0\n",
    "for i in range(2, num//2+1):\n",
    "    if num%i==0:\n",
    "        f = 1\n",
    "        print(\"num is not prime\")\n",
    "        break\n",
    "if f==0 or num==2:\n",
    "    print(\"num is prime\")"
   ]
  },
  {
   "cell_type": "code",
   "execution_count": 31,
   "metadata": {},
   "outputs": [
    {
     "name": "stdout",
     "output_type": "stream",
     "text": [
      "Enter n 4\n",
      "1  \n",
      "3  \n"
     ]
    }
   ],
   "source": [
    "#WAPP to generate even nos uptil nth position\n",
    "n = int(input(\"Enter n \"))\n",
    "i = 1\n",
    "while(i<=n):\n",
    "    if i%2 == 0:\n",
    "        print(i, \" \")\n",
    "    i += 1"
   ]
  },
  {
   "cell_type": "code",
   "execution_count": 37,
   "metadata": {},
   "outputs": [
    {
     "name": "stdout",
     "output_type": "stream",
     "text": [
      "Enter n 4\n",
      "1 + 2 + 3 + 4 + = 10\n"
     ]
    }
   ],
   "source": [
    "#WAPP to find sum of n natural nos\n",
    "n = int(input(\"Enter n \"))\n",
    "sum = 0\n",
    "for i in range(1, n+1):\n",
    "    print(i,\"+ \", end='')\n",
    "    sum += i\n",
    "print(\"=\", sum)"
   ]
  },
  {
   "cell_type": "code",
   "execution_count": 50,
   "metadata": {},
   "outputs": [
    {
     "name": "stdout",
     "output_type": "stream",
     "text": [
      "Enter n 60\n",
      "2  5  10  17  26  37  50  65  "
     ]
    }
   ],
   "source": [
    "#WAPP to given series 2, 5, 10, 17...\n",
    "n = int(input(\"Enter n \"))\n",
    "j, k = 1, 1\n",
    "i = 1\n",
    "while(i<=n):\n",
    "    i += j\n",
    "    print(i, \" \", end = '')\n",
    "    j = 2*k\n",
    "    k += 1\n",
    "    i += 1"
   ]
  },
  {
   "cell_type": "code",
   "execution_count": 61,
   "metadata": {},
   "outputs": [
    {
     "name": "stdout",
     "output_type": "stream",
     "text": [
      "2 + 3 + 5 + 7 + 11 + 13 + 17 + 19 + 23 + 29 + 31 + 37 + 41 + 43 + 47 + 53 + 59 + 61 + 67 + 71 + 73 + 79 + 83 + 89 + 97 = 1060\n"
     ]
    }
   ],
   "source": [
    "#WAPP to print prime series\n",
    "n = int(input(\"Enter n \"))\n",
    "print(2, end='')\n",
    "sum = 2\n",
    "for i in range(3, n):\n",
    "    f = 0\n",
    "    for j in range(2, i//2+1):\n",
    "        if i%j==0:\n",
    "            f = 1\n",
    "            break\n",
    "    if f==0:\n",
    "        print(\" +\", i, end='')\n",
    "        sum += i\n",
    "print(\" =\", sum)"
   ]
  },
  {
   "cell_type": "code",
   "execution_count": 67,
   "metadata": {},
   "outputs": [
    {
     "name": "stdout",
     "output_type": "stream",
     "text": [
      "Enter n 10\n",
      "0 1  1  2  3  5  8"
     ]
    }
   ],
   "source": [
    "#WAPP to print fibonacci series\n",
    "n = int(input(\"Enter n \"))\n",
    "i, j = 0, 1\n",
    "print(i, j, end='')\n",
    "k = i + j\n",
    "while(k<=n):\n",
    "    print(\" \", k, end='')\n",
    "    i, j = j, k\n",
    "    k = i + j"
   ]
  },
  {
   "cell_type": "code",
   "execution_count": 72,
   "metadata": {},
   "outputs": [
    {
     "name": "stdout",
     "output_type": "stream",
     "text": [
      "Enter a num 6\n",
      "Factorial of 6 is 720\n"
     ]
    }
   ],
   "source": [
    "#WAPP to find factorial of a no\n",
    "n = int(input(\"Enter a num \"))\n",
    "f = 1\n",
    "for i in range(1, n+1):\n",
    "    f *= i\n",
    "print(\"Factorial of\", n, \"is\", f)"
   ]
  },
  {
   "cell_type": "code",
   "execution_count": 81,
   "metadata": {},
   "outputs": [
    {
     "name": "stdout",
     "output_type": "stream",
     "text": [
      "enter total units 2100\n",
      "Total electric bill is 5250.0\n"
     ]
    }
   ],
   "source": [
    "#WAPP of electric bill\n",
    "#units 0 - 500 cost 0.2/- per unit\n",
    "#units 500 - 1000 cost 0.4/- per unit\n",
    "#units 1000 - 1500 cost 0.6/- per unit\n",
    "#units 1500 - 2000 cost 1.5/- per unit\n",
    "#units more than 2000 cost 2.5/- per unit\n",
    "units = float(input(\"enter total units \"))\n",
    "if units>=0 and units<500:\n",
    "    cost = units * (0.2)\n",
    "elif units>=500 and units<1000:\n",
    "    cost = units * 0.4\n",
    "elif units>=1000 and units<1500:\n",
    "    cost = units * 0.6\n",
    "elif units>=1500 and units<2000:\n",
    "    cost = units * 1.5\n",
    "else:\n",
    "    cost = units * 2.5\n",
    "print(\"Your electric bill is\", cost)"
   ]
  },
  {
   "cell_type": "code",
   "execution_count": 91,
   "metadata": {},
   "outputs": [
    {
     "name": "stdout",
     "output_type": "stream",
     "text": [
      "Enter any num 153\n",
      "153 is armstrong\n"
     ]
    }
   ],
   "source": [
    "#WAPP to check if a no is armstrong or not\n",
    "num = int(input(\"Enter any num \"))\n",
    "a, sum = num, 0\n",
    "while(num!=0):\n",
    "    rem = num % 10\n",
    "    num = num // 10\n",
    "    sum += pow(rem, 3)\n",
    "if sum==a:\n",
    "    print(a, \"is an armstrong no\")\n",
    "else: \n",
    "    print(\"not\")"
   ]
  },
  {
   "cell_type": "code",
   "execution_count": 94,
   "metadata": {},
   "outputs": [
    {
     "name": "stdout",
     "output_type": "stream",
     "text": [
      "Enter any random no 123\n",
      "not\n"
     ]
    }
   ],
   "source": [
    "#WAPP to check if a mumber is palindrome or not\n",
    "num = int(input(\"Enter any random no \"))\n",
    "a = num\n",
    "sum = 0\n",
    "while(num!=0):\n",
    "    rem = num % 10\n",
    "    num = num // 10\n",
    "    sum = sum * 10 + rem\n",
    "if sum==a:\n",
    "    print(a, \"is an palindrome no\")\n",
    "else: \n",
    "    print(\"not\")"
   ]
  },
  {
   "cell_type": "code",
   "execution_count": null,
   "metadata": {},
   "outputs": [],
   "source": [
    "#WAPP to check perfect square\n",
    "num = int(input(\"Enter any random no \"))\n",
    "f = 0\n",
    "for i in range(2, (num//2)+1):\n",
    "    if i*i==num:\n",
    "        print(num, \"is a perfect square\")\n",
    "        f = 1\n",
    "        break\n",
    "if f==0 or num==1:\n",
    "    print(\"not\")"
   ]
  },
  {
   "cell_type": "code",
   "execution_count": null,
   "metadata": {},
   "outputs": [],
   "source": []
  }
 ],
 "metadata": {
  "kernelspec": {
   "display_name": "Python 3",
   "language": "python",
   "name": "python3"
  },
  "language_info": {
   "codemirror_mode": {
    "name": "ipython",
    "version": 3
   },
   "file_extension": ".py",
   "mimetype": "text/x-python",
   "name": "python",
   "nbconvert_exporter": "python",
   "pygments_lexer": "ipython3",
   "version": "3.7.6"
  }
 },
 "nbformat": 4,
 "nbformat_minor": 4
}
